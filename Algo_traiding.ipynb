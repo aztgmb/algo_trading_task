{
  "nbformat": 4,
  "nbformat_minor": 0,
  "metadata": {
    "colab": {
      "name": "Algo traiding.ipynb",
      "provenance": [],
      "collapsed_sections": []
    },
    "kernelspec": {
      "name": "python3",
      "display_name": "Python 3"
    },
    "language_info": {
      "name": "python"
    },
    "accelerator": "GPU"
  },
  "cells": [
    {
      "cell_type": "code",
      "metadata": {
        "id": "ZGFL8Uv_N6DM"
      },
      "source": [
        "import pandas as pd\n",
        "path = r'https://raw.githubusercontent.com/aztgmb/algo_trading_task/main/BTCUSD%20-%20Bitstamp_BTCUSD_1h.csv'\n",
        "df = pd.read_csv(path)"
      ],
      "execution_count": null,
      "outputs": []
    },
    {
      "cell_type": "code",
      "metadata": {
        "id": "-edcaFZ_QY3u"
      },
      "source": [
        "df=df.loc[df['date']>='2020-01-01 0:00:00']\n",
        "df=df.drop(['unix','symbol','Volume BTC','Volume USD'],axis=1)"
      ],
      "execution_count": null,
      "outputs": []
    },
    {
      "cell_type": "code",
      "metadata": {
        "id": "efUKuLmgQZOw"
      },
      "source": [
        "df['date']=pd.to_datetime(df['date'])"
      ],
      "execution_count": null,
      "outputs": []
    },
    {
      "cell_type": "code",
      "metadata": {
        "id": "ZKkSvMYtQZ7o"
      },
      "source": [
        "def candles(df):\n",
        "    candles_df = pd.DataFrame(index=df.index.values, columns=['open', 'high', 'low', 'close'])\n",
        "    candles_df['close'] = (df['open'] + df['high'] + df['low'] + df['close']) / 4\n",
        "    for i in range(len(df)):\n",
        "        if i == 0:\n",
        "            candles_df.iat[0, 0] = df['open'].iloc[0]\n",
        "        else:\n",
        "            candles_df.iat[i, 0] = (candles_df.iat[i-1, 0] + candles_df.iat[i-1, 3]) / 2\n",
        "    candles_df['high'] = candles_df.loc[:, ['open', 'close']].join(df['high']).max(axis=1)\n",
        "    candles_df['low'] = candles_df.loc[:, ['open', 'close']].join(df['low']).min(axis=1)\n",
        "    return candles_df"
      ],
      "execution_count": null,
      "outputs": []
    },
    {
      "cell_type": "code",
      "metadata": {
        "id": "4ra-kNtLQaK5"
      },
      "source": [
        "candles=candles(df)"
      ],
      "execution_count": null,
      "outputs": []
    },
    {
      "cell_type": "code",
      "metadata": {
        "id": "4qrUQ3x6UuwZ"
      },
      "source": [
        "candles['date']=df['date']\n",
        "candles=candles.set_index('date')\n",
        "candles=candles.sort_index()"
      ],
      "execution_count": null,
      "outputs": []
    },
    {
      "cell_type": "code",
      "metadata": {
        "id": "5N8bTZdpWQuW"
      },
      "source": [
        "def sma(data, n):\n",
        "    sma = data.rolling(window = n).mean()\n",
        "    return pd.DataFrame(sma)\n",
        "\n",
        "n = [14, 36]\n",
        "for i in n:\n",
        "    candles[f'sma_{i}'] = sma(candles['close'], i)"
      ],
      "execution_count": null,
      "outputs": []
    },
    {
      "cell_type": "code",
      "metadata": {
        "colab": {
          "base_uri": "https://localhost:8080/",
          "height": 455
        },
        "id": "GGx8E92KaGPz",
        "outputId": "a21e94eb-0b9e-418f-e0cc-62281e3441a6"
      },
      "source": [
        "candles1=candles.dropna(axis=0)\n",
        "candles1"
      ],
      "execution_count": null,
      "outputs": [
        {
          "output_type": "execute_result",
          "data": {
            "text/html": [
              "<div>\n",
              "<style scoped>\n",
              "    .dataframe tbody tr th:only-of-type {\n",
              "        vertical-align: middle;\n",
              "    }\n",
              "\n",
              "    .dataframe tbody tr th {\n",
              "        vertical-align: top;\n",
              "    }\n",
              "\n",
              "    .dataframe thead th {\n",
              "        text-align: right;\n",
              "    }\n",
              "</style>\n",
              "<table border=\"1\" class=\"dataframe\">\n",
              "  <thead>\n",
              "    <tr style=\"text-align: right;\">\n",
              "      <th></th>\n",
              "      <th>open</th>\n",
              "      <th>high</th>\n",
              "      <th>low</th>\n",
              "      <th>close</th>\n",
              "      <th>sma_14</th>\n",
              "      <th>sma_36</th>\n",
              "    </tr>\n",
              "    <tr>\n",
              "      <th>date</th>\n",
              "      <th></th>\n",
              "      <th></th>\n",
              "      <th></th>\n",
              "      <th></th>\n",
              "      <th></th>\n",
              "      <th></th>\n",
              "    </tr>\n",
              "  </thead>\n",
              "  <tbody>\n",
              "    <tr>\n",
              "      <th>2020-01-02 11:00:00</th>\n",
              "      <td>7116.01</td>\n",
              "      <td>7144.920</td>\n",
              "      <td>7116.006782</td>\n",
              "      <td>7129.0000</td>\n",
              "      <td>7135.309286</td>\n",
              "      <td>7173.303333</td>\n",
              "    </tr>\n",
              "    <tr>\n",
              "      <th>2020-01-02 12:00:00</th>\n",
              "      <td>7104.46</td>\n",
              "      <td>7142.310</td>\n",
              "      <td>7104.461064</td>\n",
              "      <td>7127.5525</td>\n",
              "      <td>7130.811786</td>\n",
              "      <td>7172.424792</td>\n",
              "    </tr>\n",
              "    <tr>\n",
              "      <th>2020-01-02 13:00:00</th>\n",
              "      <td>7091.65</td>\n",
              "      <td>7140.210</td>\n",
              "      <td>7081.400000</td>\n",
              "      <td>7117.2725</td>\n",
              "      <td>7126.955893</td>\n",
              "      <td>7170.823403</td>\n",
              "    </tr>\n",
              "    <tr>\n",
              "      <th>2020-01-02 14:00:00</th>\n",
              "      <td>7065.33</td>\n",
              "      <td>7139.950</td>\n",
              "      <td>7065.326756</td>\n",
              "      <td>7117.9725</td>\n",
              "      <td>7122.677321</td>\n",
              "      <td>7168.343056</td>\n",
              "    </tr>\n",
              "    <tr>\n",
              "      <th>2020-01-02 15:00:00</th>\n",
              "      <td>7015.54</td>\n",
              "      <td>7131.750</td>\n",
              "      <td>7015.538513</td>\n",
              "      <td>7115.1150</td>\n",
              "      <td>7118.558929</td>\n",
              "      <td>7165.752431</td>\n",
              "    </tr>\n",
              "    <tr>\n",
              "      <th>...</th>\n",
              "      <td>...</td>\n",
              "      <td>...</td>\n",
              "      <td>...</td>\n",
              "      <td>...</td>\n",
              "      <td>...</td>\n",
              "      <td>...</td>\n",
              "    </tr>\n",
              "    <tr>\n",
              "      <th>2021-06-28 20:00:00</th>\n",
              "      <td>34571.2</td>\n",
              "      <td>34801.180</td>\n",
              "      <td>34287.300000</td>\n",
              "      <td>34559.3600</td>\n",
              "      <td>34483.696607</td>\n",
              "      <td>33910.647708</td>\n",
              "    </tr>\n",
              "    <tr>\n",
              "      <th>2021-06-28 21:00:00</th>\n",
              "      <td>34466.6</td>\n",
              "      <td>34831.620</td>\n",
              "      <td>34466.603750</td>\n",
              "      <td>34675.8275</td>\n",
              "      <td>34470.771250</td>\n",
              "      <td>33962.748750</td>\n",
              "    </tr>\n",
              "    <tr>\n",
              "      <th>2021-06-28 22:00:00</th>\n",
              "      <td>34455.1</td>\n",
              "      <td>34628.690</td>\n",
              "      <td>34214.000000</td>\n",
              "      <td>34478.1425</td>\n",
              "      <td>34435.143571</td>\n",
              "      <td>34014.350694</td>\n",
              "    </tr>\n",
              "    <tr>\n",
              "      <th>2021-06-28 23:00:00</th>\n",
              "      <td>34534.5</td>\n",
              "      <td>34534.505</td>\n",
              "      <td>34116.430000</td>\n",
              "      <td>34375.6250</td>\n",
              "      <td>34416.087679</td>\n",
              "      <td>34053.041042</td>\n",
              "    </tr>\n",
              "    <tr>\n",
              "      <th>2021-06-29 00:00:00</th>\n",
              "      <td>34494.4</td>\n",
              "      <td>34772.610</td>\n",
              "      <td>34416.570000</td>\n",
              "      <td>34574.5900</td>\n",
              "      <td>34437.968929</td>\n",
              "      <td>34087.734306</td>\n",
              "    </tr>\n",
              "  </tbody>\n",
              "</table>\n",
              "<p>13046 rows × 6 columns</p>\n",
              "</div>"
            ],
            "text/plain": [
              "                        open       high  ...        sma_14        sma_36\n",
              "date                                     ...                            \n",
              "2020-01-02 11:00:00  7116.01   7144.920  ...   7135.309286   7173.303333\n",
              "2020-01-02 12:00:00  7104.46   7142.310  ...   7130.811786   7172.424792\n",
              "2020-01-02 13:00:00  7091.65   7140.210  ...   7126.955893   7170.823403\n",
              "2020-01-02 14:00:00  7065.33   7139.950  ...   7122.677321   7168.343056\n",
              "2020-01-02 15:00:00  7015.54   7131.750  ...   7118.558929   7165.752431\n",
              "...                      ...        ...  ...           ...           ...\n",
              "2021-06-28 20:00:00  34571.2  34801.180  ...  34483.696607  33910.647708\n",
              "2021-06-28 21:00:00  34466.6  34831.620  ...  34470.771250  33962.748750\n",
              "2021-06-28 22:00:00  34455.1  34628.690  ...  34435.143571  34014.350694\n",
              "2021-06-28 23:00:00  34534.5  34534.505  ...  34416.087679  34053.041042\n",
              "2021-06-29 00:00:00  34494.4  34772.610  ...  34437.968929  34087.734306\n",
              "\n",
              "[13046 rows x 6 columns]"
            ]
          },
          "metadata": {
            "tags": []
          },
          "execution_count": 8
        }
      ]
    },
    {
      "cell_type": "code",
      "metadata": {
        "id": "-L_h1jBDaGhb"
      },
      "source": [
        "import numpy as np\n",
        "def strat(data, sma_short, sma_long):\n",
        "    sma1 = sma_short\n",
        "    sma2 = sma_long\n",
        "    buy_price = []\n",
        "    sell_price = []\n",
        "    sma_signal = []\n",
        "    signal = 0\n",
        "    for i in range(len(data)):\n",
        "        if sma1[i] > sma2[i]:\n",
        "            if signal != 1:\n",
        "                buy_price.append(data[i])\n",
        "                sell_price.append(np.nan)\n",
        "                signal = 1\n",
        "                sma_signal.append(signal)\n",
        "            else:\n",
        "                buy_price.append(np.nan)\n",
        "                sell_price.append(np.nan)\n",
        "                sma_signal.append(0)\n",
        "        elif sma2[i] > sma1[i]:\n",
        "            if signal != -1:\n",
        "                buy_price.append(np.nan)\n",
        "                sell_price.append(data[i])\n",
        "                signal = -1\n",
        "                sma_signal.append(-1)\n",
        "            else:\n",
        "                buy_price.append(np.nan)\n",
        "                sell_price.append(np.nan)\n",
        "                sma_signal.append(0)\n",
        "        else:\n",
        "            buy_price.append(np.nan)\n",
        "            sell_price.append(np.nan)\n",
        "            sma_signal.append(0)\n",
        "    return buy_price, sell_price, sma_signal\n",
        "\n",
        "buy_price, sell_price, signal = strat(candles1['close'], candles1['sma_14'], candles1['sma_36'])"
      ],
      "execution_count": null,
      "outputs": []
    },
    {
      "cell_type": "code",
      "metadata": {
        "colab": {
          "base_uri": "https://localhost:8080/",
          "height": 455
        },
        "id": "7h0VG58gaG9u",
        "outputId": "e127307c-69c0-48ed-acf7-11dcfdb5eef8"
      },
      "source": [
        "data1=[buy_price, sell_price, signal]\n",
        "df_new=pd.DataFrame(data1)\n",
        "df_new=df_new.T\n",
        "df_new = df_new.rename(columns={0:'buy_price',1:'sell_price',2:'signal'})\n",
        "df_new.index=candles1.index\n",
        "df_new=df_new.loc[df_new['signal']!=0]\n",
        "df_new"
      ],
      "execution_count": null,
      "outputs": [
        {
          "output_type": "execute_result",
          "data": {
            "text/html": [
              "<div>\n",
              "<style scoped>\n",
              "    .dataframe tbody tr th:only-of-type {\n",
              "        vertical-align: middle;\n",
              "    }\n",
              "\n",
              "    .dataframe tbody tr th {\n",
              "        vertical-align: top;\n",
              "    }\n",
              "\n",
              "    .dataframe thead th {\n",
              "        text-align: right;\n",
              "    }\n",
              "</style>\n",
              "<table border=\"1\" class=\"dataframe\">\n",
              "  <thead>\n",
              "    <tr style=\"text-align: right;\">\n",
              "      <th></th>\n",
              "      <th>buy_price</th>\n",
              "      <th>sell_price</th>\n",
              "      <th>signal</th>\n",
              "    </tr>\n",
              "    <tr>\n",
              "      <th>date</th>\n",
              "      <th></th>\n",
              "      <th></th>\n",
              "      <th></th>\n",
              "    </tr>\n",
              "  </thead>\n",
              "  <tbody>\n",
              "    <tr>\n",
              "      <th>2020-01-02 11:00:00</th>\n",
              "      <td>NaN</td>\n",
              "      <td>7129.0000</td>\n",
              "      <td>-1.0</td>\n",
              "    </tr>\n",
              "    <tr>\n",
              "      <th>2020-01-03 11:00:00</th>\n",
              "      <td>7317.0575</td>\n",
              "      <td>NaN</td>\n",
              "      <td>1.0</td>\n",
              "    </tr>\n",
              "    <tr>\n",
              "      <th>2020-01-04 20:00:00</th>\n",
              "      <td>NaN</td>\n",
              "      <td>7318.9850</td>\n",
              "      <td>-1.0</td>\n",
              "    </tr>\n",
              "    <tr>\n",
              "      <th>2020-01-05 01:00:00</th>\n",
              "      <td>7411.8625</td>\n",
              "      <td>NaN</td>\n",
              "      <td>1.0</td>\n",
              "    </tr>\n",
              "    <tr>\n",
              "      <th>2020-01-09 00:00:00</th>\n",
              "      <td>NaN</td>\n",
              "      <td>7993.4925</td>\n",
              "      <td>-1.0</td>\n",
              "    </tr>\n",
              "    <tr>\n",
              "      <th>...</th>\n",
              "      <td>...</td>\n",
              "      <td>...</td>\n",
              "      <td>...</td>\n",
              "    </tr>\n",
              "    <tr>\n",
              "      <th>2021-06-23 02:00:00</th>\n",
              "      <td>33961.0175</td>\n",
              "      <td>NaN</td>\n",
              "      <td>1.0</td>\n",
              "    </tr>\n",
              "    <tr>\n",
              "      <th>2021-06-24 03:00:00</th>\n",
              "      <td>NaN</td>\n",
              "      <td>32584.5175</td>\n",
              "      <td>-1.0</td>\n",
              "    </tr>\n",
              "    <tr>\n",
              "      <th>2021-06-24 18:00:00</th>\n",
              "      <td>35006.7500</td>\n",
              "      <td>NaN</td>\n",
              "      <td>1.0</td>\n",
              "    </tr>\n",
              "    <tr>\n",
              "      <th>2021-06-25 15:00:00</th>\n",
              "      <td>NaN</td>\n",
              "      <td>32679.2050</td>\n",
              "      <td>-1.0</td>\n",
              "    </tr>\n",
              "    <tr>\n",
              "      <th>2021-06-27 03:00:00</th>\n",
              "      <td>33061.4575</td>\n",
              "      <td>NaN</td>\n",
              "      <td>1.0</td>\n",
              "    </tr>\n",
              "  </tbody>\n",
              "</table>\n",
              "<p>452 rows × 3 columns</p>\n",
              "</div>"
            ],
            "text/plain": [
              "                      buy_price  sell_price  signal\n",
              "date                                               \n",
              "2020-01-02 11:00:00         NaN   7129.0000    -1.0\n",
              "2020-01-03 11:00:00   7317.0575         NaN     1.0\n",
              "2020-01-04 20:00:00         NaN   7318.9850    -1.0\n",
              "2020-01-05 01:00:00   7411.8625         NaN     1.0\n",
              "2020-01-09 00:00:00         NaN   7993.4925    -1.0\n",
              "...                         ...         ...     ...\n",
              "2021-06-23 02:00:00  33961.0175         NaN     1.0\n",
              "2021-06-24 03:00:00         NaN  32584.5175    -1.0\n",
              "2021-06-24 18:00:00  35006.7500         NaN     1.0\n",
              "2021-06-25 15:00:00         NaN  32679.2050    -1.0\n",
              "2021-06-27 03:00:00  33061.4575         NaN     1.0\n",
              "\n",
              "[452 rows x 3 columns]"
            ]
          },
          "metadata": {
            "tags": []
          },
          "execution_count": 10
        }
      ]
    },
    {
      "cell_type": "code",
      "metadata": {
        "colab": {
          "base_uri": "https://localhost:8080/"
        },
        "id": "wsioKUAYWUrP",
        "outputId": "a4b49c49-eb3e-43b7-e0da-196d8263c828"
      },
      "source": [
        "df_new['profit_usd']=pd.Series()\n",
        "df_new['profit_btc']=pd.Series()\n",
        "df_new['profit_pct']=pd.Series()\n",
        "for i in range(1,len(df_new['signal']+1)):\n",
        "  if df_new['signal'][i-1]==-1.0 and df_new['signal'][i]==1.0:\n",
        "    df_new['profit_usd'][i]=(df_new['sell_price'][i-1]-df_new['buy_price'][i])*0.1\n",
        "    df_new['profit_btc'][i]=df_new['profit_usd'][i]/df_new['buy_price'][i]\n",
        "    df_new['profit_pct'][i]=(((df_new['sell_price'][i-1]-df_new['buy_price'][i])*0.1)/(df_new['buy_price'][i]*0.1))*100\n",
        "  if df_new['signal'][i-1]==1.0 and df_new['signal'][i]==-1.0:\n",
        "    df_new['profit_usd'][i]=(df_new['sell_price'][i]-df_new['buy_price'][i-1])*0.1\n",
        "    df_new['profit_btc'][i]=df_new['profit_usd'][i]/df_new['buy_price'][i-1]\n",
        "    df_new['profit_pct'][i]=(((df_new['sell_price'][i]-df_new['buy_price'][i-1])*0.1)/(df_new['buy_price'][i-1]*0.1))*100\n"
      ],
      "execution_count": null,
      "outputs": [
        {
          "output_type": "stream",
          "text": [
            "/usr/local/lib/python3.7/dist-packages/ipykernel_launcher.py:1: DeprecationWarning: The default dtype for empty Series will be 'object' instead of 'float64' in a future version. Specify a dtype explicitly to silence this warning.\n",
            "  \"\"\"Entry point for launching an IPython kernel.\n",
            "/usr/local/lib/python3.7/dist-packages/ipykernel_launcher.py:2: DeprecationWarning: The default dtype for empty Series will be 'object' instead of 'float64' in a future version. Specify a dtype explicitly to silence this warning.\n",
            "  \n",
            "/usr/local/lib/python3.7/dist-packages/ipykernel_launcher.py:3: DeprecationWarning: The default dtype for empty Series will be 'object' instead of 'float64' in a future version. Specify a dtype explicitly to silence this warning.\n",
            "  This is separate from the ipykernel package so we can avoid doing imports until\n"
          ],
          "name": "stderr"
        }
      ]
    },
    {
      "cell_type": "code",
      "metadata": {
        "id": "cBVVE_lLHwMZ"
      },
      "source": [
        "df_new['running_total_btc']=df_new['profit_btc'].cumsum()\n",
        "df_new['running_total_usd']=df_new['profit_usd'].cumsum()\n",
        "df_new['drawdown_btc']=(df_new['running_total_btc']-df_new['running_total_btc'].cummax())/df_new['running_total_btc'].cummax()*100\n",
        "df_new['drawdown_usd']=(df_new['running_total_usd']-df_new['running_total_usd'].cummax())/df_new['running_total_usd'].cummax()*100"
      ],
      "execution_count": null,
      "outputs": []
    },
    {
      "cell_type": "code",
      "metadata": {
        "id": "piO0gAVgHwvQ"
      },
      "source": [
        "# profit, %\n",
        "profit=df_new['profit_pct'].sum()\n",
        "# MDD, %\n",
        "mdd_btc=df_new['drawdown_btc'].min()\n",
        "mdd_usd=df_new['drawdown_usd'].min()\n",
        "# deals number\n",
        "n_total=df_new.shape[0]\n",
        "# share of profitable deals, %\n",
        "df_new_prof=df_new.loc[df_new['profit_pct']>0]\n",
        "n_profit=df_new_prof.shape[0]\n",
        "s_profit=n_profit/n_total*100\n",
        "# share of unprofitable deals, %\n",
        "df_new_unprof=df_new.loc[df_new['profit_pct']<=0]\n",
        "n_unprofit=df_new_unprof.shape[0]\n",
        "s_unprofit=n_unprofit/n_total*100\n",
        "# average profitale deal, %\n",
        "avg_profit=df_new_prof['profit_pct'].mean()\n",
        "# average non-profitable deal, %\n",
        "avg_unprofit=df_new_unprof['profit_pct'].mean()\n",
        "# Longest streak of unprofitable deals\n",
        "df_new['neg']=df_new['profit_btc']<0\n",
        "streak=(~df_new['neg']).cumsum()[df_new['neg']].value_counts().max()\n",
        "# Recovery factor\n",
        "df_new['drawdown_usd_rf']=df_new['running_total_usd']-df_new['running_total_usd'].cummax()\n",
        "rf=df_new['profit_usd'].sum()/df_new['drawdown_usd_rf'].min()"
      ],
      "execution_count": null,
      "outputs": []
    },
    {
      "cell_type": "code",
      "metadata": {
        "id": "HGotLQKAHxEa",
        "colab": {
          "base_uri": "https://localhost:8080/"
        },
        "outputId": "3ed51c57-c31b-4a96-e24e-8b5f1e03e3f3"
      },
      "source": [
        "print('profit, %  ' + str(round(profit,2)))\n",
        "print('MDD, %  ' + str(round(mdd_usd,2)))\n",
        "print('deals number  ' + str(n_total))\n",
        "print('share of profitable deals, %  ' + str(round(s_profit,2)))\n",
        "print('share of unprofitable deals, %  ' + str(round(s_unprofit,2)))\n",
        "print('average profitable deal, %  ' + str(round(avg_profit,2)))\n",
        "print('average unprofitable deal, %  ' + str(round(avg_unprofit,2)))\n",
        "print('longest streak of unprofitable deals  ' + str(round(streak,2)))\n",
        "print('recovery factor  ' + str(round(rf,2)))"
      ],
      "execution_count": null,
      "outputs": [
        {
          "output_type": "stream",
          "text": [
            "profit, %  78.54\n",
            "MDD, %  -269.52\n",
            "deals number  452\n",
            "share of profitable deals, %  31.19\n",
            "share of unprofitable deals, %  68.58\n",
            "average profitable deal, %  4.53\n",
            "average unprofitable deal, %  -1.81\n",
            "longest streak of unprofitable deals  10\n",
            "recovery factor  0.27\n"
          ],
          "name": "stdout"
        }
      ]
    }
  ]
}