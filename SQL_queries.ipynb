{
  "nbformat": 4,
  "nbformat_minor": 0,
  "metadata": {
    "colab": {
      "name": "SQL queries.ipynb",
      "provenance": [],
      "collapsed_sections": []
    },
    "kernelspec": {
      "name": "python3",
      "display_name": "Python 3"
    },
    "language_info": {
      "name": "python"
    }
  },
  "cells": [
    {
      "cell_type": "code",
      "metadata": {
        "id": "IRbZ0xVk9bl9"
      },
      "source": [
        "# 1) profit by position (pos_id)\n",
        "with base as (select pos_id, (qty*prc) as amount from public_positions)\n",
        "select pos_id, sum(amount) as profit from base\n",
        "group by pos_id"
      ],
      "execution_count": null,
      "outputs": []
    },
    {
      "cell_type": "code",
      "metadata": {
        "id": "_ZDne-lL_WMJ"
      },
      "source": [
        "# 2) average open/close price\n",
        "with base as (select pos_id, first_value(prc) over (partition by pos_id) as open, last_value(prc) over (partition by pos_id) as close from public_positions\n",
        "group by pos_id)\n",
        "select avg(open) as avg_open, avg(close) as avg_close from base"
      ],
      "execution_count": null,
      "outputs": []
    },
    {
      "cell_type": "code",
      "metadata": {
        "id": "22UUAjcB_Wfg"
      },
      "source": [
        "# 3) total profit by bot (bot_id)\n",
        "with base as (select bot_id, (qty*prc) as amount from public_positions)\n",
        "select bot_id, sum(amount) as bot_profit from base\n",
        "group by bot_id"
      ],
      "execution_count": null,
      "outputs": []
    }
  ]
}